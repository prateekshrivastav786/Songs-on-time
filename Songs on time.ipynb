{
 "cells": [
  {
   "cell_type": "code",
   "execution_count": 45,
   "metadata": {},
   "outputs": [
    {
     "name": "stdout",
     "output_type": "stream",
     "text": [
      "news time\n",
      "\n",
      "The current time is: 2018-02-01 07:59:26.980002\n"
     ]
    }
   ],
   "source": [
    "import datetime # to get the time of the system\n",
    "import webbrowser # to open the web url\n",
    "import time\n",
    "t=str(datetime.datetime.now()) # taking the current time in a variable as a string\n",
    "\n",
    "if t[11:19]== \"07:22:25\":           # user's selected time\n",
    "    print(\"Your song is playing!!!\")\n",
    "    webbrowser.open('https://www.youtube.com/watch?v=jCXN3BKA9dE')   # opening the website of song\n",
    "  \n",
    " elif t[11:19] > \"07:22:25\" and t[11:19] < \"08:22:22\":\n",
    "    print(\"Your song is waiting for you!!! Playing...\")\n",
    "    webbrowser.open('https://www.youtube.com/watch?v=vCoi_p7drek')\n",
    "    \n",
    "elif t[11:19] == \"09:00:00\":\n",
    "    print(\"news time\")\n",
    "    time.sleep(1)\n",
    "    webbrowser.open('https://www.irishtimes.com/')\n",
    "    \n",
    "else:\n",
    "    print(\"Sorry!!!\")\n",
    "    print(\"No song lined up for you now, Please go for your study\")\n",
    "    time.sleep(4) # halting the program for 4 seconds\n",
    "    print(\"\\tJust Kidding!!! I know you won't\")\n",
    "    print(\"You have this great song...\")\n",
    "    time.sleep(2)\n",
    "    webbrowser.open('https://www.youtube.com/watch?v=nX7TJmQpN7I')\n",
    "print(\"\\nThe current time is:\", t)"
   ]
  },
  {
   "cell_type": "code",
   "execution_count": null,
   "metadata": {
    "collapsed": true
   },
   "outputs": [],
   "source": []
  }
 ],
 "metadata": {
  "kernelspec": {
   "display_name": "Python 3",
   "language": "python",
   "name": "python3"
  },
  "language_info": {
   "codemirror_mode": {
    "name": "ipython",
    "version": 3
   },
   "file_extension": ".py",
   "mimetype": "text/x-python",
   "name": "python",
   "nbconvert_exporter": "python",
   "pygments_lexer": "ipython3",
   "version": "3.6.1"
  }
 },
 "nbformat": 4,
 "nbformat_minor": 2
}
